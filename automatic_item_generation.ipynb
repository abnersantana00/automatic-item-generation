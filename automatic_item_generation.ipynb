{
  "nbformat": 4,
  "nbformat_minor": 0,
  "metadata": {
    "colab": {
      "provenance": [],
      "mount_file_id": "https://github.com/abnersantana00/automatic-item-generation/blob/main/automatic_item_generation.ipynb",
      "authorship_tag": "ABX9TyNiU8+D5LA3d4SukZAhw73G",
      "include_colab_link": true
    },
    "kernelspec": {
      "name": "python3",
      "display_name": "Python 3"
    },
    "language_info": {
      "name": "python"
    }
  },
  "cells": [
    {
      "cell_type": "markdown",
      "metadata": {
        "id": "view-in-github",
        "colab_type": "text"
      },
      "source": [
        "<a href=\"https://colab.research.google.com/github/abnersantana00/automatic-item-generation/blob/main/automatic_item_generation.ipynb\" target=\"_parent\"><img src=\"https://colab.research.google.com/assets/colab-badge.svg\" alt=\"Open In Colab\"/></a>"
      ]
    },
    {
      "cell_type": "code",
      "source": [
        "!pip install import_ipynb"
      ],
      "metadata": {
        "id": "Tg_9QTxU4NdI"
      },
      "execution_count": null,
      "outputs": []
    },
    {
      "cell_type": "code",
      "source": [
        "import json\n",
        "import re  # Importa o módulo de expressões regulares\n",
        "\n",
        "def generate_questions(template_path, question_path, qtd_itens=None):\n",
        "    with open(template_path, 'r') as template_file:\n",
        "        template_data = json.load(template_file)\n",
        "\n",
        "    with open(question_path, 'r') as questoes_file:\n",
        "        questoes_data = json.load(questoes_file)\n",
        "\n",
        "    # Comparar o cod-template dos dois arquivos\n",
        "    if template_data[\"cod-template\"] == questoes_data[\"cod-template\"]:\n",
        "        total_questoes = len(questoes_data[\"questoes\"])\n",
        "\n",
        "        # Ajustar qtd_itens para não exceder o total de questões disponíveis\n",
        "        if qtd_itens is None or qtd_itens > total_questoes:\n",
        "            qtd_itens = total_questoes\n",
        "\n",
        "        stem_variables = template_data[\"stem-var\"]\n",
        "\n",
        "        for n in range(qtd_itens):\n",
        "            questao = questoes_data[\"questoes\"][n]\n",
        "\n",
        "            # Montar o layer-1 (condição) - Se aplicável\n",
        "            layer_1_stem = \"\"\n",
        "            if \"layer-1\" in template_data and \"layer-1-var\" in questao:\n",
        "                layer_1_stem = template_data[\"layer-1\"][\"stem\"]\n",
        "                for layer_var_name, layer_var_value in questao[\"layer-1-var\"].items():\n",
        "                    index = int(layer_var_value)\n",
        "                    if layer_var_name in template_data[\"layer-1\"][\"layer-1-var\"]:\n",
        "                        variable_insert = template_data[\"layer-1\"][\"layer-1-var\"][layer_var_name][index]\n",
        "                        layer_1_stem = layer_1_stem.replace(f\"{{{{{layer_var_name}}}}}\", variable_insert)\n",
        "\n",
        "            # Montar o layer-2 (se aplicável)\n",
        "            layer_2_stem = \"\"\n",
        "            if \"layer-2\" in template_data and \"layer-2-var\" in questao:\n",
        "                layer_2_stem = template_data[\"layer-2\"][\"stem\"]\n",
        "                for layer_var_name, layer_var_value in questao[\"layer-2-var\"].items():\n",
        "                    index = int(layer_var_value)\n",
        "                    variable_insert = template_data[\"layer-2\"][\"layer-2-var\"][layer_var_name][index]\n",
        "                    layer_2_stem = layer_2_stem.replace(f\"{{{{{layer_var_name}}}}}\", variable_insert)\n",
        "\n",
        "            # Montar o layer-3 (se aplicável)\n",
        "            layer_3_stem = \"\"\n",
        "            if \"layer-3\" in template_data and \"layer-3-var\" in questao:\n",
        "                layer_3_stem = template_data[\"layer-3\"][\"stem\"]\n",
        "                for layer_var_name, layer_var_value in questao[\"layer-3-var\"].items():\n",
        "                    index = int(layer_var_value)\n",
        "                    variable_insert = template_data[\"layer-3\"][\"layer-3-var\"][layer_var_name][index]\n",
        "                    layer_3_stem = layer_3_stem.replace(f\"{{{{{layer_var_name}}}}}\", variable_insert)\n",
        "\n",
        "            # Montar o stem principal e substituir as variáveis do stem\n",
        "            stem_principal = template_data[\"stem\"]\n",
        "            for stem_var_name, stem_var_value in questao[\"stem-var\"].items():\n",
        "                index = int(stem_var_value)\n",
        "                variable_insert = stem_variables[stem_var_name][index]\n",
        "                stem_principal = stem_principal.replace(f\"{{{{{stem_var_name}}}}}\", variable_insert)\n",
        "\n",
        "            # Substituir qualquer variável entre {{{...}}} com os respectivos layers\n",
        "            stem_principal = re.sub(r\"\\{\\{\\{.*?\\}\\}\\}\", layer_1_stem, stem_principal)\n",
        "            stem_principal = re.sub(r\"\\{\\{\\{.*?\\}\\}\\}\", layer_2_stem, stem_principal)\n",
        "            stem_principal = re.sub(r\"\\{\\{\\{.*?\\}\\}\\}\", layer_3_stem, stem_principal)\n",
        "\n",
        "            print(f\"\\n #### Questão {n + 1} #### \\n\")\n",
        "            print(stem_principal)\n",
        "            print()\n",
        "\n",
        "    else:\n",
        "        print(\"Erro: O template e a lista de geração têm códigos diferentes\")\n"
      ],
      "metadata": {
        "id": "FwX-3rKc0e91"
      },
      "execution_count": 21,
      "outputs": []
    },
    {
      "cell_type": "code",
      "execution_count": 44,
      "metadata": {
        "id": "sdV7uD2DX3GH",
        "outputId": "1bd8596b-450d-4ff4-c854-68f011823ed2",
        "colab": {
          "base_uri": "https://localhost:8080/"
        }
      },
      "outputs": [
        {
          "output_type": "stream",
          "name": "stdout",
          "text": [
            "Drive already mounted at /content/drive; to attempt to forcibly remount, call drive.mount(\"/content/drive\", force_remount=True).\n",
            "\n",
            " ### Questão 1 ### \n",
            "\n",
            "Uma plataforma de e-commerce oferece faixas de desconto em função do tipo de produto e valor de compra, ajustando as faixas conforme a categoria do cliente \n",
            "\n",
            "Cliente Fidelidade\n",
            "\n",
            "    Comprou mais de 10 itens : desconto de 10%\n",
            "    Comprou entre 5 a 10 itens: deconto de 5%\n",
            "    Comprou menos de 5 itens : não há desconto\n",
            "\n",
            "Cliente Regular\n",
            "\n",
            "    Comprou mais de 10 itens : Desconto de 5%\n",
            "    Comprou entre 5 e 10 itens : Desconto de 2%\n",
            "    Comprou menos de 5 itens : não há desconto \n",
            "\n",
            "Outros casos\n",
            "\n",
            "   Sem descontos caso o cliente não atenda aos critérios estabelecidos \n",
            "\n",
            "\n",
            " ### Questão 2 ### \n",
            "\n",
            "Uma plataforma de contabilidade ajuda autônomos a calcular impostos com base na faixa de renda e deduções específicas. Dependendo do valor total de rendimentos, diferentes alíquotas são aplicadas, e certas deduções, como educação e saúde, reduzem o imposto devido. Regras de Cálculo:\n",
            "\n",
            "Para renda mensal superior a R$ 10.000:\n",
            "\n",
            "    Com filhos: Aplica-se um desconto de 5% sobre a alíquota padrão de 27,5%.\n",
            "    Sem deduções: Aplica-se a alíquota integral de 27,5%.\n",
            "\n",
            "Para renda mensal entre R$ 5.000 e R$ 10.000:\n",
            "\n",
            "    Com dependentes: Aplica-se um desconto de 3% sobre a alíquota padrão de 15%.\n",
            "    Sem dependentes: Aplica-se a alíquota integral de 15%.\n",
            "\n",
            "Para renda mensal inferior a R$ 5.000:\n",
            "\n",
            "    O trabalhador é isento de imposto. \n",
            "\n"
          ]
        }
      ],
      "source": [
        "# start script using colab\n",
        "\n",
        "from google.colab import drive\n",
        "import import_ipynb\n",
        "\n",
        "# 1. Montar o Google Drive\n",
        "drive.mount('/content/drive')\n",
        "\n",
        "dir = '/content/drive/MyDrive/json-files/'\n",
        "\n",
        "\n",
        "# gerar questões 50 questões (if simples)\n",
        "#generate_questions(dir+'if-simples-template.json', dir+'if-simples-questoes.json', qtd_itens=5)\n",
        "# gerar questões 50 questões (if composto)\n",
        "generate_questions(dir+'if-composto-template.json', dir+'if-composto-questoes.json', qtd_itens=10)\n"
      ]
    }
  ]
}