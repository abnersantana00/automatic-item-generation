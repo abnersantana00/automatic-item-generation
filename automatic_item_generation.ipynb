{
  "nbformat": 4,
  "nbformat_minor": 0,
  "metadata": {
    "colab": {
      "provenance": [],
      "toc_visible": true,
      "mount_file_id": "https://github.com/abnersantana00/automatic-item-generation/blob/main/automatic_item_generation.ipynb",
      "authorship_tag": "ABX9TyMMF7YH9wAcuzLSatmFQmDf",
      "include_colab_link": true
    },
    "kernelspec": {
      "name": "python3",
      "display_name": "Python 3"
    },
    "language_info": {
      "name": "python"
    }
  },
  "cells": [
    {
      "cell_type": "markdown",
      "metadata": {
        "id": "view-in-github",
        "colab_type": "text"
      },
      "source": [
        "<a href=\"https://colab.research.google.com/github/abnersantana00/automatic-item-generation/blob/main/automatic_item_generation.ipynb\" target=\"_parent\"><img src=\"https://colab.research.google.com/assets/colab-badge.svg\" alt=\"Open In Colab\"/></a>"
      ]
    },
    {
      "cell_type": "code",
      "source": [
        "# @title\n",
        "import json\n",
        "def generate_questions(template_path, question_path, qtd_itens=None):\n",
        "    with open(template_path, 'r') as template_file:\n",
        "        template_data = json.load(template_file)\n",
        "\n",
        "    with open(question_path, 'r') as questoes_file:\n",
        "        questoes_data = json.load(questoes_file)\n",
        "\n",
        "    # Comparar o cod-template dos dois arquivos\n",
        "    if template_data[\"cod-template\"] == questoes_data[\"cod-template\"]:\n",
        "        total_questoes = len(questoes_data[\"questoes\"])\n",
        "\n",
        "        # Ajustar qtd_itens para não exceder o total de questões disponíveis\n",
        "        if qtd_itens is None or qtd_itens > total_questoes:\n",
        "            qtd_itens = total_questoes\n",
        "\n",
        "        stem_variables = template_data[\"stem-var\"]\n",
        "\n",
        "        for n in range(qtd_itens):\n",
        "            questao = questoes_data[\"questoes\"][n]\n",
        "\n",
        "            # Montar o layer-1 (condição) - Se aplicável\n",
        "            layer_1_stem = \"\"\n",
        "            if \"layer-1\" in template_data and \"layer-1-var\" in questao:\n",
        "                layer_1_stem = template_data[\"layer-1\"][\"stem\"]\n",
        "                for layer_var_name, layer_var_value in questao[\"layer-1-var\"].items():\n",
        "                    index = int(layer_var_value)\n",
        "                    if layer_var_name in template_data[\"layer-1\"][\"layer-1-var\"]:\n",
        "                        variable_insert = template_data[\"layer-1\"][\"layer-1-var\"][layer_var_name][index]\n",
        "                        layer_1_stem = layer_1_stem.replace(f\"{{{{{layer_var_name}}}}}\", variable_insert)\n",
        "\n",
        "            # Montar o layer-2 (se aplicável)\n",
        "            layer_2_stem = \"\"\n",
        "            if \"layer-2\" in template_data:\n",
        "                layer_2_stem = template_data[\"layer-2\"][\"stem\"]\n",
        "                for layer_var_name, layer_var_value in questao[\"layer-2-var\"].items():\n",
        "                    index = int(layer_var_value)\n",
        "                    variable_insert = template_data[\"layer-2\"][\"layer-2-var\"][layer_var_name][index]\n",
        "                    layer_2_stem = layer_2_stem.replace(f\"{{{{{layer_var_name}}}}}\", variable_insert)\n",
        "\n",
        "            # Montar o layer-3 (se aplicável)\n",
        "            layer_3_stem = \"\"\n",
        "            if \"layer-3\" in template_data:\n",
        "                layer_3_stem = template_data[\"layer-3\"][\"stem\"]\n",
        "                for layer_var_name, layer_var_value in questao[\"layer-3-var\"].items():\n",
        "                    index = int(layer_var_value)\n",
        "                    variable_insert = template_data[\"layer-3\"][\"layer-3-var\"][layer_var_name][index]\n",
        "                    layer_3_stem = layer_3_stem.replace(f\"{{{{{layer_var_name}}}}}\", variable_insert)\n",
        "\n",
        "            # Montar o stem principal e substituir as variáveis do stem\n",
        "            stem_principal = template_data[\"stem\"]\n",
        "            for stem_var_name, stem_var_value in questao[\"stem-var\"].items():\n",
        "                index = int(stem_var_value)\n",
        "                variable_insert = stem_variables[stem_var_name][index]\n",
        "                stem_principal = stem_principal.replace(f\"{{{{{stem_var_name}}}}}\", variable_insert)\n",
        "\n",
        "            # Substituir os layers no stem principal\n",
        "            stem_principal = stem_principal.replace(\"{{{condicao}}}\", layer_1_stem)\n",
        "            stem_principal = stem_principal.replace(\"{{{layer-2}}}\", layer_2_stem)\n",
        "            stem_principal = stem_principal.replace(\"{{{layer-3}}}\", layer_3_stem)\n",
        "\n",
        "            print(f\"### Questão {n + 1} ###\")\n",
        "            print(stem_principal)\n",
        "            print()\n",
        "\n",
        "    else:\n",
        "        print(\"Erro: O template e a lista de geração têm códigos diferentes\")\n"
      ],
      "metadata": {
        "id": "FwX-3rKc0e91",
        "cellView": "form"
      },
      "execution_count": null,
      "outputs": []
    },
    {
      "cell_type": "code",
      "execution_count": null,
      "metadata": {
        "id": "sdV7uD2DX3GH",
        "outputId": "a052fd15-1094-4d46-b293-f3da5e7b2539",
        "colab": {
          "base_uri": "https://localhost:8080/"
        }
      },
      "outputs": [
        {
          "output_type": "stream",
          "name": "stdout",
          "text": [
            "Drive already mounted at /content/drive; to attempt to forcibly remount, call drive.mount(\"/content/drive\", force_remount=True).\n",
            "### Questão 1 ###\n",
            "Uma plataforma de e-commerce oferece faixas de desconto em função do tipo de produto e valor de compra, ajustando as faixas conforme a categoria do cliente {{{if-aninhado}}}\n",
            "\n"
          ]
        }
      ],
      "source": [
        "# start script using colab\n",
        "\n",
        "from google.colab import drive\n",
        "import import_ipynb\n",
        "\n",
        "# 1. Montar o Google Drive\n",
        "drive.mount('/content/drive')\n",
        "\n",
        "dir = '/content/drive/MyDrive/documents/json-files/'\n",
        "\n",
        "\n",
        "# gerar questões 50 questões (if simples)\n",
        "#generate_questions('files/if-simples-template.json', 'files/if-simples-questoes.json', qtd_itens=10)\n",
        "# gerar questões 50 questões (if composto)\n",
        "generate_questions(dir+'if-composto-template.json', dir+'if-composto-questoes.json', qtd_itens=10)\n"
      ]
    }
  ]
}